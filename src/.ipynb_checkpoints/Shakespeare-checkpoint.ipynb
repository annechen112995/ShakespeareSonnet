{
 "cells": [
  {
   "cell_type": "code",
   "execution_count": 1,
   "metadata": {},
   "outputs": [
    {
     "name": "stderr",
     "output_type": "stream",
     "text": [
      "Using TensorFlow backend.\n"
     ]
    }
   ],
   "source": [
    "import os\n",
    "import numpy as np\n",
    "import hmmlearn as hmm\n",
    "import keras\n",
    "\n",
    "from shakespeare_processing import remove_int_new, lowercase_new\n",
    "from HMM import unsupervised_HMM\n",
    "from HMM_helper import parse_observations, generate_poem\n",
    "from RNN import save_textfile"
   ]
  },
  {
   "cell_type": "code",
   "execution_count": 2,
   "metadata": {
    "collapsed": true
   },
   "outputs": [],
   "source": [
    "def load_data(filename, skiprows = 1):\n",
    "    \n",
    "    text = open(os.path.join(os.getcwd(), filename)).read()\n",
    "\n",
    "    text = lowercase_new(text)\n",
    "    text = remove_int_new(text)\n",
    "    \n",
    "    return text"
   ]
  },
  {
   "cell_type": "code",
   "execution_count": 3,
   "metadata": {},
   "outputs": [],
   "source": [
    "text = load_data('data/shakespeare.txt')\n",
    "text, text_map = parse_observations(text)"
   ]
  },
  {
   "cell_type": "code",
   "execution_count": 5,
   "metadata": {},
   "outputs": [
    {
     "name": "stdout",
     "output_type": "stream",
     "text": [
      "Are me when thy wondrous show me themselves\n",
      " see you from brow favour head no o eased\n",
      " ill record of patient such shoot i was\n",
      " watch your and me i my love robs win the\n",
      " confined of my in i eyes no were my\n",
      " cheater is my by love right vision a\n",
      " seemed their full and such to love too summer\n",
      " for all discased for shall which so hell dost\n",
      " thou say lust cannot wrought this to in shalt\n",
      " outright have my love my i the worth from\n",
      " moon but wound prone name but or tempests seem\n",
      " reigned right two thy note form huge that can none\n",
      " heart but but on that dream deserts worship\n",
      " you aid if to thy as my can your i\n",
      ".\n"
     ]
    }
   ],
   "source": [
    "direc = 'generated/'\n",
    "\n",
    "for i in range(1, 10):\n",
    "    hmm8 = unsupervised_HMM(text, i, 100)\n",
    "    poem = generate_poem(hmm8, text_map)\n",
    "    save_textfile((direc + 'shakespeare_hmm_' + i + '.txt'), poem)"
   ]
  },
  {
   "cell_type": "code",
   "execution_count": null,
   "metadata": {
    "collapsed": true
   },
   "outputs": [],
   "source": []
  }
 ],
 "metadata": {
  "kernelspec": {
   "display_name": "Python 3",
   "language": "python",
   "name": "python3"
  },
  "language_info": {
   "codemirror_mode": {
    "name": "ipython",
    "version": 3
   },
   "file_extension": ".py",
   "mimetype": "text/x-python",
   "name": "python",
   "nbconvert_exporter": "python",
   "pygments_lexer": "ipython3",
   "version": "3.6.3"
  }
 },
 "nbformat": 4,
 "nbformat_minor": 2
}
