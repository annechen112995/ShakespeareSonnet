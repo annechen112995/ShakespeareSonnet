{
 "cells": [
  {
   "cell_type": "code",
   "execution_count": null,
   "metadata": {},
   "outputs": [],
   "source": [
    "import os\n",
    "import numpy as np\n",
    "import hmmlearn as hmm\n",
    "import keras\n",
    "\n",
    "from shakespeare_processing import remove_int_new, lowercase_new\n",
    "from HMM import unsupervised_HMM\n",
    "from HMM_helper import parse_observations, generate_poem\n",
    "from RNN import save_textfile"
   ]
  },
  {
   "cell_type": "code",
   "execution_count": null,
   "metadata": {
    "collapsed": true
   },
   "outputs": [],
   "source": [
    "def load_data(filename, skiprows = 1):\n",
    "    \n",
    "    text = open(os.path.join(os.getcwd(), filename)).read()\n",
    "\n",
    "    text = lowercase_new(text)\n",
    "    text = remove_int_new(text)\n",
    "    \n",
    "    return text"
   ]
  },
  {
   "cell_type": "code",
   "execution_count": null,
   "metadata": {},
   "outputs": [],
   "source": [
    "text = load_data('data/shakespeare.txt')\n",
    "text, text_map = parse_observations(text)"
   ]
  },
  {
   "cell_type": "code",
   "execution_count": null,
   "metadata": {},
   "outputs": [],
   "source": [
    "direc = 'generated/'\n",
    "\n",
    "for i in range(1, 10):\n",
    "    hmm8 = unsupervised_HMM(text, i, 100)\n",
    "    poem = generate_poem(hmm8, text_map)\n",
    "    save_textfile((direc + 'shakespeare_hmm_' + str(i) + '.txt'), poem)"
   ]
  },
  {
   "cell_type": "code",
   "execution_count": null,
   "metadata": {
    "collapsed": true
   },
   "outputs": [],
   "source": []
  }
 ],
 "metadata": {
  "kernelspec": {
   "display_name": "Python 3",
   "language": "python",
   "name": "python3"
  },
  "language_info": {
   "codemirror_mode": {
    "name": "ipython",
    "version": 3
   },
   "file_extension": ".py",
   "mimetype": "text/x-python",
   "name": "python",
   "nbconvert_exporter": "python",
   "pygments_lexer": "ipython3",
   "version": "3.6.3"
  }
 },
 "nbformat": 4,
 "nbformat_minor": 2
}
