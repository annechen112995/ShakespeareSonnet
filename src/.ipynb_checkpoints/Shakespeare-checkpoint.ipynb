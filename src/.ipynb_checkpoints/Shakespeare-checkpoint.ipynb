{
 "cells": [
  {
   "cell_type": "code",
   "execution_count": 7,
   "metadata": {},
   "outputs": [],
   "source": [
    "import os\n",
    "import numpy as np\n",
    "import hmmlearn as hmm\n",
    "import keras\n",
    "\n",
    "from shakespeare_processing import process_data"
   ]
  },
  {
   "cell_type": "code",
   "execution_count": 8,
   "metadata": {
    "collapsed": true
   },
   "outputs": [],
   "source": [
    "def load_data(filename, skiprows = 1):\n",
    "    \n",
    "    text = open(os.path.join(os.getcwd(), filename)).read()\n",
    "    new_text = text.strip().split('\\n')\n",
    "    \n",
    "    return new_text"
   ]
  },
  {
   "cell_type": "code",
   "execution_count": 9,
   "metadata": {
    "collapsed": true
   },
   "outputs": [],
   "source": [
    "text = load_data(\"data/shakespeare.txt\")"
   ]
  },
  {
   "cell_type": "code",
   "execution_count": 10,
   "metadata": {},
   "outputs": [],
   "source": [
    "processed_data = process_data(text)"
   ]
  },
  {
   "cell_type": "code",
   "execution_count": 17,
   "metadata": {},
   "outputs": [
    {
     "ename": "SyntaxError",
     "evalue": "invalid syntax (<ipython-input-17-e796a81d98cb>, line 3)",
     "output_type": "error",
     "traceback": [
      "\u001b[0;36m  File \u001b[0;32m\"<ipython-input-17-e796a81d98cb>\"\u001b[0;36m, line \u001b[0;32m3\u001b[0m\n\u001b[0;31m    new = new + i ' '\u001b[0m\n\u001b[0m                    ^\u001b[0m\n\u001b[0;31mSyntaxError\u001b[0m\u001b[0;31m:\u001b[0m invalid syntax\n"
     ]
    }
   ],
   "source": [
    "new = ''\n",
    "for i in processed_data:\n",
    "    new = new + i + ' '\n",
    "\n",
    "print(new)"
   ]
  },
  {
   "cell_type": "code",
   "execution_count": 12,
   "metadata": {},
   "outputs": [
    {
     "name": "stdout",
     "output_type": "stream",
     "text": [
      "['from fairest creatures we desire increase,', \"that thereby beauty's rose might never die,\", 'but as the riper should by time decease,', 'his tender heir might bear his memory:', 'but thou contracted to thine own bright eyes,', \"feed'st thy light's flame with self-substantial fuel,\", 'making a famine where abundance lies,', 'thy self thy foe, to thy sweet self too cruel:', \"thou that art now the world's fresh ornament,\", 'and only herald to the gaudy spring,', 'within thine own bud buriest thy content,', \"and tender churl mak'st waste in niggarding:\", '  pity the world, or else this glutton be,', \"  to eat the world's due, by the grave and thee.\"]\n",
      "['when forty winters shall besiege thy brow,', \"and dig deep trenches in thy beauty's field,\", \"thy youth's proud livery so gazed on now,\", 'will be a tattered weed of small worth held:', 'then being asked, where all thy beauty lies,', 'where all the treasure of thy lusty days;', 'to say within thine own deep sunken eyes,', 'were an all-eating shame, and thriftless praise.', \"how much more praise deserved thy beauty's use,\", \"if thou couldst answer 'this fair child of mine\", \"shall sum my count, and make my old excuse'\", 'proving his beauty by succession thine.', '  this were to be new made when thou art old,', \"  and see thy blood warm when thou feel'st it cold.\"]\n"
     ]
    }
   ],
   "source": [
    "print(processed_data[1:15])\n",
    "print(processed_data[18:32])"
   ]
  }
 ],
 "metadata": {
  "kernelspec": {
   "display_name": "Python 3",
   "language": "python",
   "name": "python3"
  },
  "language_info": {
   "codemirror_mode": {
    "name": "ipython",
    "version": 3
   },
   "file_extension": ".py",
   "mimetype": "text/x-python",
   "name": "python",
   "nbconvert_exporter": "python",
   "pygments_lexer": "ipython3",
   "version": "3.6.3"
  }
 },
 "nbformat": 4,
 "nbformat_minor": 2
}
